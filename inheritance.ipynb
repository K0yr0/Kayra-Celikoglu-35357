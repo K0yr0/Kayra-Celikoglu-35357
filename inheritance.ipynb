{
 "cells": [
  {
   "cell_type": "markdown",
   "id": "fe243cd7",
   "metadata": {},
   "source": [
    "# A parent class"
   ]
  },
  {
   "cell_type": "code",
   "execution_count": null,
   "id": "70f7c958",
   "metadata": {
    "vscode": {
     "languageId": "plaintext"
    }
   },
   "outputs": [],
   "source": [
    "class Animal:\n",
    "    def give_sound(self, sound):\n",
    "        print(sound)\n"
   ]
  },
  {
   "cell_type": "markdown",
   "id": "5f407903",
   "metadata": {},
   "source": [
    "# Child class"
   ]
  },
  {
   "cell_type": "code",
   "execution_count": null,
   "id": "4b924ca8",
   "metadata": {
    "vscode": {
     "languageId": "plaintext"
    }
   },
   "outputs": [],
   "source": [
    "class Bird(Animal):\n",
    "    def chirp(self):\n",
    "        self.give_sound('tweet')\n"
   ]
  },
  {
   "cell_type": "markdown",
   "id": "152027c2",
   "metadata": {},
   "source": [
    "# Creating an object of the Bird class"
   ]
  },
  {
   "cell_type": "code",
   "execution_count": null,
   "id": "cd8b7966",
   "metadata": {
    "vscode": {
     "languageId": "plaintext"
    }
   },
   "outputs": [],
   "source": [
    "my_bird = Bird()\n",
    "my_bird.chirp()"
   ]
  },
  {
   "cell_type": "markdown",
   "id": "6853a823",
   "metadata": {},
   "source": [
    "# Parent class"
   ]
  },
  {
   "cell_type": "code",
   "execution_count": null,
   "id": "6b6b999f",
   "metadata": {
    "vscode": {
     "languageId": "plaintext"
    }
   },
   "outputs": [],
   "source": [
    "class Person:\n",
    "    def _init_(self, first_name, last_name):\n",
    "        self.first_name = first_name\n",
    "        self.last_name = last_name"
   ]
  },
  {
   "cell_type": "markdown",
   "id": "4324c8cb",
   "metadata": {},
   "source": [
    "# Child class"
   ]
  },
  {
   "cell_type": "code",
   "execution_count": null,
   "id": "93637e8c",
   "metadata": {
    "vscode": {
     "languageId": "plaintext"
    }
   },
   "outputs": [],
   "source": [
    "class Employee(Person):\n",
    "    def _init_(self, first_name, last_name, employee_id):\n",
    "        super()._init_(first_name, last_name)\n",
    "        self.employee_id = employee_id\n",
    "\n",
    "    def display_info(self):\n",
    "        print(f\"Name: {self.first_name} {self.last_name}, ID: {self.employee_id}\")\n"
   ]
  },
  {
   "cell_type": "markdown",
   "id": "7505afd9",
   "metadata": {},
   "source": [
    "# Creating an object of the Employee class"
   ]
  },
  {
   "cell_type": "code",
   "execution_count": null,
   "id": "4e4f709c",
   "metadata": {
    "vscode": {
     "languageId": "plaintext"
    }
   },
   "outputs": [],
   "source": [
    "employee1 = Employee('Alice', 'Johnson', 'EMP2025')\n",
    "employee1.display_info()"
   ]
  }
 ],
 "metadata": {
  "language_info": {
   "name": "python"
  }
 },
 "nbformat": 4,
 "nbformat_minor": 5
}
