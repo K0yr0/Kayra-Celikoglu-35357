{
 "cells": [
  {
   "cell_type": "markdown",
   "id": "1e035e0b",
   "metadata": {},
   "source": [
    "## Task 1 ##"
   ]
  },
  {
   "cell_type": "code",
   "execution_count": 21,
   "id": "9205ea50",
   "metadata": {},
   "outputs": [
    {
     "name": "stdout",
     "output_type": "stream",
     "text": [
      "Hello\n"
     ]
    }
   ],
   "source": [
    "class Student:\n",
    "    def hello(self):\n",
    "        print(\"Hello\")\n",
    "\n",
    "student = Student()\n",
    "student.hello()\n"
   ]
  },
  {
   "cell_type": "markdown",
   "id": "cf3a6c48",
   "metadata": {},
   "source": [
    "## Task 2 ##"
   ]
  },
  {
   "cell_type": "code",
   "execution_count": 22,
   "id": "f873c89e",
   "metadata": {},
   "outputs": [
    {
     "name": "stdout",
     "output_type": "stream",
     "text": [
      "Hello, I am kayra my index number is 35357\n"
     ]
    }
   ],
   "source": [
    "class Student:\n",
    "    def __init__(self, name, index_number):\n",
    "        self.name = name\n",
    "        self.index_number = index_number\n",
    "\n",
    "    def hello(self):\n",
    "        print(f\"Hello, I am {self.name} my index number is {self.index_number}\")\n",
    "\n",
    "student1 = Student(\"kayra\", 35357)\n",
    "student1.hello()\n"
   ]
  }
 ],
 "metadata": {
  "kernelspec": {
   "display_name": "Python 3",
   "language": "python",
   "name": "python3"
  },
  "language_info": {
   "codemirror_mode": {
    "name": "ipython",
    "version": 3
   },
   "file_extension": ".py",
   "mimetype": "text/x-python",
   "name": "python",
   "nbconvert_exporter": "python",
   "pygments_lexer": "ipython3",
   "version": "3.12.1"
  }
 },
 "nbformat": 4,
 "nbformat_minor": 5
}
