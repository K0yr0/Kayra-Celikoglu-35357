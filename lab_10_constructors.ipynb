{
 "cells": [
  {
   "cell_type": "code",
   "execution_count": 29,
   "id": "75cc13c0",
   "metadata": {},
   "outputs": [],
   "source": [
    "class Animal:\n",
    "    def __init__(self):\n",
    "        print(\"There is a new animal\")"
   ]
  },
  {
   "cell_type": "code",
   "execution_count": 30,
   "id": "a8ed2685",
   "metadata": {},
   "outputs": [
    {
     "name": "stdout",
     "output_type": "stream",
     "text": [
      "There is a new animal\n",
      "There is a new animal\n",
      "There is a new animal\n"
     ]
    }
   ],
   "source": [
    "Fox = Animal()\n",
    "Dog = Animal()\n",
    "Wolf = Animal()"
   ]
  },
  {
   "cell_type": "code",
   "execution_count": 31,
   "id": "19abecd1",
   "metadata": {},
   "outputs": [],
   "source": [
    "class Car:\n",
    "    def __init__(self,brand,model):\n",
    "        self.brand=brand\n",
    "        self.model=model\n",
    "    \n",
    "car1=Car(\"porsche\",911)\n",
    "car2=Car(\"Audi\",\"quattro\")\n",
    "car3=Car(\"Bmw\",\"X3\")"
   ]
  },
  {
   "cell_type": "markdown",
   "id": "dbf5108a",
   "metadata": {},
   "source": [
    "### Task for extra point - complex contructor "
   ]
  },
  {
   "cell_type": "code",
   "execution_count": 32,
   "id": "f2aefb7e",
   "metadata": {},
   "outputs": [],
   "source": [
    "class House:\n",
    "    def __init__(self,location,floors,furnitures):\n",
    "        self.location=location\n",
    "        self.floors=floors\n",
    "        self.furnitures=furnitures\n",
    "\n",
    "house1=House(\n",
    "    location={\n",
    "        \"country\":\"Poland\",\n",
    "     \"city\":\"Warsaw\",\n",
    "     \"street\":\"wynalazbek 3B\"},\n",
    "    floors=8,\n",
    "    furnitures=['table','tv','bed']\n",
    ")\n",
    "house2=House(\n",
    "    location={\n",
    "        'country':'Turkey',\n",
    "        'city':'Eskişehir',\n",
    "        'street':'Atatürk Bulvarı'},\n",
    "    floors=10,\n",
    "    furnitures=['couch','desk','fridgve']\n",
    ")\n",
    "        "
   ]
  }
 ],
 "metadata": {
  "kernelspec": {
   "display_name": "Python 3",
   "language": "python",
   "name": "python3"
  },
  "language_info": {
   "codemirror_mode": {
    "name": "ipython",
    "version": 3
   },
   "file_extension": ".py",
   "mimetype": "text/x-python",
   "name": "python",
   "nbconvert_exporter": "python",
   "pygments_lexer": "ipython3",
   "version": "3.12.1"
  }
 },
 "nbformat": 4,
 "nbformat_minor": 5
}
