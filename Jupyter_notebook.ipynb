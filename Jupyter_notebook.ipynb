{
  "cells": [
    {
      "cell_type": "markdown",
      "id": "f6cbfa35-7ded-482a-8aaf-f46470c297f0",
      "metadata": {},
      "source": [
        "### Simpliest class ever\n"
      ]
    },
    {
      "cell_type": "code",
      "execution_count": 1,
      "id": "c9d37b7d-c354-4c24-a38c-c131e7dba7b3",
      "metadata": {
        "trusted": true
      },
      "outputs": [],
      "source": [
        "class EmptyClass:\n",
        "    pass"
      ]
    },
    {
      "cell_type": "markdown",
      "id": "90a7550d-5c85-40ed-aeb6-4aeb8dedcaf2",
      "metadata": {},
      "source": [
        "### Simpliest object ever"
      ]
    },
    {
      "cell_type": "code",
      "execution_count": 2,
      "id": "c15a77fc-18f8-4fc2-9503-5d0d10eeced8",
      "metadata": {
        "trusted": true
      },
      "outputs": [
        {
          "name": "stdout",
          "output_type": "stream",
          "text": [
            "Object created: <__main__.EmptyClass object at 0x75eaf81fe060>\n"
          ]
        }
      ],
      "source": [
        "#Creating an object from the empty class using `pass`.\n",
        "obj = EmptyClass()\n",
        "print(\"Object created:\", obj)"
      ]
    },
    {
      "cell_type": "markdown",
      "id": "c38bd247-9efb-4b68-b271-cd3bbce9d68e",
      "metadata": {},
      "source": [
        "### Class with One Method"
      ]
    },
    {
      "cell_type": "code",
      "execution_count": 3,
      "id": "c97ca4f7-4cc5-4faf-b82b-95852e081969",
      "metadata": {
        "trusted": true
      },
      "outputs": [],
      "source": [
        "#This class has one method that prints a greeting.\n",
        "class Greeter:\n",
        "    def say_hello(self):\n",
        "        print(\"Hello, world!\")"
      ]
    },
    {
      "cell_type": "markdown",
      "id": "8e9fd951-0ddd-43b4-a56c-498331790b6e",
      "metadata": {},
      "source": [
        "### Using the method"
      ]
    },
    {
      "cell_type": "code",
      "execution_count": 4,
      "id": "d95a1854-0beb-4e76-afd4-9e5a79d3be8b",
      "metadata": {
        "trusted": true
      },
      "outputs": [
        {
          "name": "stdout",
          "output_type": "stream",
          "text": [
            "Hello, world!\n"
          ]
        }
      ],
      "source": [
        "#Creating an object and calling the method.\n",
        "class Greeter:\n",
        "    def say_hello(self):\n",
        "        print(\"Hello, world!\")\n",
        "\n",
        "g = Greeter()\n",
        "g.say_hello()"
      ]
    },
    {
      "cell_type": "code",
      "execution_count": null,
      "id": "cc231f6e-76b9-4b44-aadd-d60418e077c3",
      "metadata": {
        "trusted": true
      },
      "outputs": [],
      "source": []
    }
  ],
  "metadata": {
    "kernelspec": {
      "display_name": "Python 3",
      "language": "python",
      "name": "python3"
    },
    "language_info": {
      "codemirror_mode": {
        "name": "ipython",
        "version": 3
      },
      "file_extension": ".py",
      "mimetype": "text/x-python",
      "name": "python",
      "nbconvert_exporter": "python",
      "pygments_lexer": "ipython3",
      "version": "3.12.1"
    }
  },
  "nbformat": 4,
  "nbformat_minor": 5
}
