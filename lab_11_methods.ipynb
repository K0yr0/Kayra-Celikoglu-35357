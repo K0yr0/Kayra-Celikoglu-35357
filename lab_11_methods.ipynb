{
 "cells": [
  {
   "cell_type": "markdown",
   "id": "c12c6293",
   "metadata": {},
   "source": [
    "### Functions ###"
   ]
  },
  {
   "cell_type": "code",
   "execution_count": 28,
   "id": "65be6821",
   "metadata": {},
   "outputs": [],
   "source": [
    "   def make_sound():\n",
    "        print('Hello')\n"
   ]
  },
  {
   "cell_type": "code",
   "execution_count": 29,
   "id": "35915963",
   "metadata": {},
   "outputs": [
    {
     "name": "stdout",
     "output_type": "stream",
     "text": [
      "Hello\n"
     ]
    }
   ],
   "source": [
    "make_sound()"
   ]
  },
  {
   "cell_type": "code",
   "execution_count": 30,
   "id": "6168db2a",
   "metadata": {},
   "outputs": [],
   "source": [
    "def make_sound(name):\n",
    "    print(\"Hello\",name)"
   ]
  },
  {
   "cell_type": "code",
   "execution_count": 31,
   "id": "2851ae71",
   "metadata": {},
   "outputs": [
    {
     "name": "stdout",
     "output_type": "stream",
     "text": [
      "Hello Luna\n"
     ]
    }
   ],
   "source": [
    "make_sound(\"Luna\")"
   ]
  },
  {
   "cell_type": "markdown",
   "id": "d39fa0e5",
   "metadata": {},
   "source": [
    "### Methods ###"
   ]
  },
  {
   "cell_type": "code",
   "execution_count": 32,
   "id": "3552eae6",
   "metadata": {},
   "outputs": [],
   "source": [
    "class MyAnimal:\n",
    "    def make_sound(self):\n",
    "        print('Hello')"
   ]
  },
  {
   "cell_type": "code",
   "execution_count": 33,
   "id": "a4814e46",
   "metadata": {},
   "outputs": [
    {
     "data": {
      "text/plain": [
       "<bound method MyAnimal.make_sound of <__main__.MyAnimal object at 0x73c2332ae570>>"
      ]
     },
     "execution_count": 33,
     "metadata": {},
     "output_type": "execute_result"
    }
   ],
   "source": [
    "my_dog = MyAnimal()\n",
    "my_cat = MyAnimal()\n",
    "\n",
    "my_dog.make_sound\n",
    "my_cat.make_sound"
   ]
  },
  {
   "cell_type": "code",
   "execution_count": 34,
   "id": "707b7397",
   "metadata": {},
   "outputs": [],
   "source": [
    "class MyAnimal:\n",
    "    def make_sound(self,name):\n",
    "        print(\"Hello\",name)"
   ]
  },
  {
   "cell_type": "code",
   "execution_count": 35,
   "id": "c5d58396",
   "metadata": {},
   "outputs": [
    {
     "name": "stdout",
     "output_type": "stream",
     "text": [
      "Hello Luna\n"
     ]
    }
   ],
   "source": [
    "my_dog = MyAnimal()\n",
    "my_dog.make_sound(\"Luna\")"
   ]
  }
 ],
 "metadata": {
  "kernelspec": {
   "display_name": "Python 3",
   "language": "python",
   "name": "python3"
  },
  "language_info": {
   "codemirror_mode": {
    "name": "ipython",
    "version": 3
   },
   "file_extension": ".py",
   "mimetype": "text/x-python",
   "name": "python",
   "nbconvert_exporter": "python",
   "pygments_lexer": "ipython3",
   "version": "3.12.1"
  }
 },
 "nbformat": 4,
 "nbformat_minor": 5
}
